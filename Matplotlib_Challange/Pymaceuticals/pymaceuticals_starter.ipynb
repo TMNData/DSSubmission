{
 "cells": [
  {
   "cell_type": "markdown",
   "metadata": {},
   "source": [
    "## Observations and Insights\n",
    "\n",
    "Box and Wisher plot indicates only Infubinol has one outlier and other does not have outlier date result indicates study have reliable data set.\n",
    "\n",
    "Capomulin and Ramicane are most successful drug considering reduction in tumor volume, however need to evaluate other factor like starting volume, age etc.\n",
    "\n",
    "Study had approximately similar gender distribution, it would be interesting to see if any has gender based effect.\n",
    "\n",
    "R square value for mouse weight and tumor has strong relation \n",
    "\n",
    "All Drug Regimen has similar or comparable data points except Capomulin and Ramicane has more than 200 total data\n"
   ]
  },
  {
   "cell_type": "markdown",
   "metadata": {},
   "source": []
  },
  {
   "cell_type": "markdown",
   "metadata": {},
   "source": [
    "## Dependencies and starter code"
   ]
  },
  {
   "cell_type": "code",
   "execution_count": 1,
   "metadata": {},
   "outputs": [],
   "source": [
    "# Dependencies and Setup\n",
    "import matplotlib.pyplot as plt\n",
    "import pandas as pd\n",
    "import scipy.stats as st\n",
    "import numpy as np\n",
    "\n",
    "# Study data files\n",
    "mouse_metadata = \"data/Mouse_metadata.csv\"\n",
    "study_results = \"data/Study_results.csv\"\n",
    "\n",
    "# Read the mouse data and the study results\n",
    "mouse_metadata = pd.read_csv(mouse_metadata)\n",
    "\n",
    "study_results = pd.read_csv(study_results)\n",
    "\n",
    "# Combine the data into a single dataset\n",
    "\n",
    "study_data = pd.merge(mouse_metadata, study_results, on=\"Mouse ID\", how=\"left\")\n",
    "#renamed column to remove space etc.\n",
    "study_data_col=['Mouse_ID','Regimen','Gender','Age_months','Weight','Timepoint','Volume','Metastatic_Sites']\n",
    "study_data.columns=study_data_col\n",
    "#study_data.info()\n",
    "# study_data.columns"
   ]
  },
  {
   "cell_type": "code",
   "execution_count": 2,
   "metadata": {},
   "outputs": [
    {
     "data": {
      "text/html": [
       "<div>\n",
       "<style scoped>\n",
       "    .dataframe tbody tr th:only-of-type {\n",
       "        vertical-align: middle;\n",
       "    }\n",
       "\n",
       "    .dataframe tbody tr th {\n",
       "        vertical-align: top;\n",
       "    }\n",
       "\n",
       "    .dataframe thead th {\n",
       "        text-align: right;\n",
       "    }\n",
       "</style>\n",
       "<table border=\"1\" class=\"dataframe\">\n",
       "  <thead>\n",
       "    <tr style=\"text-align: right;\">\n",
       "      <th></th>\n",
       "      <th>Mouse_ID</th>\n",
       "      <th>Regimen</th>\n",
       "      <th>Gender</th>\n",
       "      <th>Age_months</th>\n",
       "      <th>Weight</th>\n",
       "      <th>Timepoint</th>\n",
       "      <th>Volume</th>\n",
       "      <th>Metastatic_Sites</th>\n",
       "    </tr>\n",
       "  </thead>\n",
       "  <tbody>\n",
       "    <tr>\n",
       "      <td>0</td>\n",
       "      <td>k403</td>\n",
       "      <td>Ramicane</td>\n",
       "      <td>Male</td>\n",
       "      <td>21</td>\n",
       "      <td>16</td>\n",
       "      <td>0</td>\n",
       "      <td>45.000000</td>\n",
       "      <td>0</td>\n",
       "    </tr>\n",
       "    <tr>\n",
       "      <td>1</td>\n",
       "      <td>k403</td>\n",
       "      <td>Ramicane</td>\n",
       "      <td>Male</td>\n",
       "      <td>21</td>\n",
       "      <td>16</td>\n",
       "      <td>5</td>\n",
       "      <td>38.825898</td>\n",
       "      <td>0</td>\n",
       "    </tr>\n",
       "    <tr>\n",
       "      <td>2</td>\n",
       "      <td>k403</td>\n",
       "      <td>Ramicane</td>\n",
       "      <td>Male</td>\n",
       "      <td>21</td>\n",
       "      <td>16</td>\n",
       "      <td>10</td>\n",
       "      <td>35.014271</td>\n",
       "      <td>1</td>\n",
       "    </tr>\n",
       "    <tr>\n",
       "      <td>3</td>\n",
       "      <td>k403</td>\n",
       "      <td>Ramicane</td>\n",
       "      <td>Male</td>\n",
       "      <td>21</td>\n",
       "      <td>16</td>\n",
       "      <td>15</td>\n",
       "      <td>34.223992</td>\n",
       "      <td>1</td>\n",
       "    </tr>\n",
       "    <tr>\n",
       "      <td>4</td>\n",
       "      <td>k403</td>\n",
       "      <td>Ramicane</td>\n",
       "      <td>Male</td>\n",
       "      <td>21</td>\n",
       "      <td>16</td>\n",
       "      <td>20</td>\n",
       "      <td>32.997729</td>\n",
       "      <td>1</td>\n",
       "    </tr>\n",
       "  </tbody>\n",
       "</table>\n",
       "</div>"
      ],
      "text/plain": [
       "  Mouse_ID   Regimen Gender  Age_months  Weight  Timepoint     Volume  \\\n",
       "0     k403  Ramicane   Male          21      16          0  45.000000   \n",
       "1     k403  Ramicane   Male          21      16          5  38.825898   \n",
       "2     k403  Ramicane   Male          21      16         10  35.014271   \n",
       "3     k403  Ramicane   Male          21      16         15  34.223992   \n",
       "4     k403  Ramicane   Male          21      16         20  32.997729   \n",
       "\n",
       "   Metastatic_Sites  \n",
       "0                 0  \n",
       "1                 0  \n",
       "2                 1  \n",
       "3                 1  \n",
       "4                 1  "
      ]
     },
     "execution_count": 2,
     "metadata": {},
     "output_type": "execute_result"
    }
   ],
   "source": [
    "study_data.head()"
   ]
  },
  {
   "cell_type": "markdown",
   "metadata": {},
   "source": [
    "## Summary statistics"
   ]
  },
  {
   "cell_type": "code",
   "execution_count": 3,
   "metadata": {},
   "outputs": [
    {
     "data": {
      "text/html": [
       "<div>\n",
       "<style scoped>\n",
       "    .dataframe tbody tr th:only-of-type {\n",
       "        vertical-align: middle;\n",
       "    }\n",
       "\n",
       "    .dataframe tbody tr th {\n",
       "        vertical-align: top;\n",
       "    }\n",
       "\n",
       "    .dataframe thead th {\n",
       "        text-align: right;\n",
       "    }\n",
       "</style>\n",
       "<table border=\"1\" class=\"dataframe\">\n",
       "  <thead>\n",
       "    <tr style=\"text-align: right;\">\n",
       "      <th></th>\n",
       "      <th>Mean</th>\n",
       "      <th>Median</th>\n",
       "      <th>Variance</th>\n",
       "      <th>Std_Dev</th>\n",
       "      <th>Std_Error</th>\n",
       "    </tr>\n",
       "    <tr>\n",
       "      <th>Regimen</th>\n",
       "      <th></th>\n",
       "      <th></th>\n",
       "      <th></th>\n",
       "      <th></th>\n",
       "      <th></th>\n",
       "    </tr>\n",
       "  </thead>\n",
       "  <tbody>\n",
       "    <tr>\n",
       "      <td>Capomulin</td>\n",
       "      <td>40.675741</td>\n",
       "      <td>41.557809</td>\n",
       "      <td>24.947764</td>\n",
       "      <td>4.994774</td>\n",
       "      <td>0.329346</td>\n",
       "    </tr>\n",
       "    <tr>\n",
       "      <td>Ceftamin</td>\n",
       "      <td>52.591172</td>\n",
       "      <td>51.776157</td>\n",
       "      <td>39.290177</td>\n",
       "      <td>6.268188</td>\n",
       "      <td>0.469821</td>\n",
       "    </tr>\n",
       "    <tr>\n",
       "      <td>Infubinol</td>\n",
       "      <td>52.884795</td>\n",
       "      <td>51.820584</td>\n",
       "      <td>43.128684</td>\n",
       "      <td>6.567243</td>\n",
       "      <td>0.492236</td>\n",
       "    </tr>\n",
       "    <tr>\n",
       "      <td>Ketapril</td>\n",
       "      <td>55.235638</td>\n",
       "      <td>53.698743</td>\n",
       "      <td>68.553577</td>\n",
       "      <td>8.279709</td>\n",
       "      <td>0.603860</td>\n",
       "    </tr>\n",
       "    <tr>\n",
       "      <td>Naftisol</td>\n",
       "      <td>54.331565</td>\n",
       "      <td>52.509285</td>\n",
       "      <td>66.173479</td>\n",
       "      <td>8.134708</td>\n",
       "      <td>0.596466</td>\n",
       "    </tr>\n",
       "    <tr>\n",
       "      <td>Placebo</td>\n",
       "      <td>54.033581</td>\n",
       "      <td>52.288934</td>\n",
       "      <td>61.168083</td>\n",
       "      <td>7.821003</td>\n",
       "      <td>0.581331</td>\n",
       "    </tr>\n",
       "    <tr>\n",
       "      <td>Propriva</td>\n",
       "      <td>52.322552</td>\n",
       "      <td>50.854632</td>\n",
       "      <td>42.351070</td>\n",
       "      <td>6.507770</td>\n",
       "      <td>0.512884</td>\n",
       "    </tr>\n",
       "    <tr>\n",
       "      <td>Ramicane</td>\n",
       "      <td>40.216745</td>\n",
       "      <td>40.673236</td>\n",
       "      <td>23.486704</td>\n",
       "      <td>4.846308</td>\n",
       "      <td>0.320955</td>\n",
       "    </tr>\n",
       "    <tr>\n",
       "      <td>Stelasyn</td>\n",
       "      <td>54.233149</td>\n",
       "      <td>52.431737</td>\n",
       "      <td>59.450562</td>\n",
       "      <td>7.710419</td>\n",
       "      <td>0.573111</td>\n",
       "    </tr>\n",
       "    <tr>\n",
       "      <td>Zoniferol</td>\n",
       "      <td>53.236507</td>\n",
       "      <td>51.818479</td>\n",
       "      <td>48.533355</td>\n",
       "      <td>6.966589</td>\n",
       "      <td>0.516398</td>\n",
       "    </tr>\n",
       "  </tbody>\n",
       "</table>\n",
       "</div>"
      ],
      "text/plain": [
       "                Mean     Median   Variance   Std_Dev  Std_Error\n",
       "Regimen                                                        \n",
       "Capomulin  40.675741  41.557809  24.947764  4.994774   0.329346\n",
       "Ceftamin   52.591172  51.776157  39.290177  6.268188   0.469821\n",
       "Infubinol  52.884795  51.820584  43.128684  6.567243   0.492236\n",
       "Ketapril   55.235638  53.698743  68.553577  8.279709   0.603860\n",
       "Naftisol   54.331565  52.509285  66.173479  8.134708   0.596466\n",
       "Placebo    54.033581  52.288934  61.168083  7.821003   0.581331\n",
       "Propriva   52.322552  50.854632  42.351070  6.507770   0.512884\n",
       "Ramicane   40.216745  40.673236  23.486704  4.846308   0.320955\n",
       "Stelasyn   54.233149  52.431737  59.450562  7.710419   0.573111\n",
       "Zoniferol  53.236507  51.818479  48.533355  6.966589   0.516398"
      ]
     },
     "execution_count": 3,
     "metadata": {},
     "output_type": "execute_result"
    }
   ],
   "source": [
    "# Generate a summary statistics table of mean, median, variance, standard deviation, and SEM of the tumor volume\n",
    "# for each regimen\n",
    "grouped_drug_regimen = study_data.groupby('Regimen').agg({\"Volume\":[np.mean,np.median,np.var,np.std,st.sem]})\n",
    "\n",
    "grouped_drug_regimen.columns = grouped_drug_regimen.columns.droplevel(level=0)\n",
    "df_study=grouped_drug_regimen.rename(columns={\n",
    "    \"mean\": \"Mean\", \"median\": \"Median\", \"var\": \"Variance\", \"std\": \"Std_Dev\",\"sem\": \"Std_Error\"})\n",
    "#df_study=df_study_data.set_index(\"Drug Regimen\")\n",
    "df_study"
   ]
  },
  {
   "cell_type": "markdown",
   "metadata": {},
   "source": [
    "## Bar plots"
   ]
  },
  {
   "cell_type": "markdown",
   "metadata": {},
   "source": []
  },
  {
   "cell_type": "code",
   "execution_count": 20,
   "metadata": {},
   "outputs": [
    {
     "data": {
      "text/plain": [
       "Text(0, 0.5, 'Number of datapoints in Regimen')"
      ]
     },
     "execution_count": 20,
     "metadata": {},
     "output_type": "execute_result"
    },
    {
     "data": {
      "image/png": "[encoded data removed]",
      "text/plain": [
       "<Figure size 1440x360 with 1 Axes>"
      ]
     },
     "metadata": {
      "needs_background": "light"
     },
     "output_type": "display_data"
    }
   ],
   "source": [
    "# Generate a bar plot showing number of data points for each treatment regimen using pandas\n",
    "\n",
    "drug_regimen_bar=study_data.groupby('Regimen')['Mouse_ID'].count()\n",
    "x_axis = np.arange(len(drug_regimen_bar))\n",
    "tick_locations = [value for value in x_axis]\n",
    "color = ['red','brown','blue','green','yellow','pink','purple','orange','black','tan']\n",
    "plt.figure(figsize=(20,5))\n",
    "plt.bar(x_axis, drug_regimen_bar, alpha=0.85, align=\"center\",width=0.55,color=color)\n",
    "plt.xticks(tick_locations, drug_regimen_bar.keys(), rotation=\"90\")\n",
    "\n",
    "# Sets the x limits of the current chart\n",
    "\n",
    "plt.xlim(-0.5, len(x_axis)-0.35)\n",
    "\n",
    "plt.ylim(0, max(drug_regimen_bar)+10)\n",
    "\n",
    "# Give our chart some labels and a tile\n",
    "plt.title(\"Data Points by Treatment Regimen\")\n",
    "plt.xlabel(\"Regimen\")\n",
    "plt.ylabel(\"Number of datapoints in Regimen\")"
   ]
  },
  {
   "cell_type": "code",
   "execution_count": 19,
   "metadata": {},
   "outputs": [
    {
     "data": {
      "image/png": "[encoded data removed]",
      "text/plain": [
       "<Figure size 1440x360 with 1 Axes>"
      ]
     },
     "metadata": {
      "needs_background": "light"
     },
     "output_type": "display_data"
    },
    {
     "data": {
      "text/plain": [
       "<Figure size 432x288 with 0 Axes>"
      ]
     },
     "metadata": {},
     "output_type": "display_data"
    }
   ],
   "source": [
    "# Generate a bar plot showing number of data points for each treatment regimen using pyplot\n",
    "\n",
    "# Use DataFrame.plot() in order to create a bar chart of the data\n",
    "color = ['red','brown','blue','green','yellow','pink','purple','orange','black','tan']\n",
    "drug_regimen_bar.plot(kind=\"bar\", x=\"Regimen\", y=\"Number of datapoints in Regimen\",\n",
    "              title=\"Data Points by Treatment Regimen\", figsize=(20,5),width=0.55,color=color)\n",
    "\n",
    "\n",
    "plt.show()\n",
    "plt.tight_layout()"
   ]
  },
  {
   "cell_type": "markdown",
   "metadata": {},
   "source": [
    "## Pie plots"
   ]
  },
  {
   "cell_type": "code",
   "execution_count": 6,
   "metadata": {},
   "outputs": [
    {
     "name": "stderr",
     "output_type": "stream",
     "text": [
      "C:\\Users\\tejas_naik\\AppData\\Local\\Continuum\\anaconda3\\lib\\site-packages\\ipykernel_launcher.py:8: MatplotlibDeprecationWarning: Non-1D inputs to pie() are currently squeeze()d, but this behavior is deprecated since 3.1 and will be removed in 3.3; pass a 1D array instead.\n",
      "  \n"
     ]
    },
    {
     "data": {
      "image/png": "[encoded data removed]",
      "text/plain": [
       "<Figure size 432x288 with 1 Axes>"
      ]
     },
     "metadata": {},
     "output_type": "display_data"
    }
   ],
   "source": [
    "drug_regimen_pie=study_data.groupby('Gender').nunique()\n",
    "lable_list=list(drug_regimen_pie.index)\n",
    "gender_pie=[study_data[\"Gender\"].value_counts()]\n",
    "\n",
    "colors=[\"orange\",\"blue\"]\n",
    "\n",
    "plt.pie(gender_pie, labels=lable_list, colors=colors,\n",
    "        autopct=\"%1.1f%%\", shadow=True, startangle=180)\n",
    "\n",
    "# Create axes which are equal so we have a perfect circle\n",
    "plt.axis(\"equal\")\n",
    "\n",
    "plt.show()\n",
    "\n",
    "# print(drug_regimen_pie)"
   ]
  },
  {
   "cell_type": "code",
   "execution_count": 7,
   "metadata": {},
   "outputs": [
    {
     "data": {
      "image/png": "[encoded data removed]",
      "text/plain": [
       "<Figure size 432x288 with 1 Axes>"
      ]
     },
     "metadata": {},
     "output_type": "display_data"
    },
    {
     "data": {
      "text/plain": [
       "<Figure size 432x288 with 0 Axes>"
      ]
     },
     "metadata": {},
     "output_type": "display_data"
    }
   ],
   "source": [
    "# Generate a pie plot showing the distribution of female versus male mice using pyplot\n",
    "\n",
    "gender_pie=study_data[\"Gender\"].value_counts()\n",
    "\n",
    "gender_dis = gender_pie.plot(kind=\"pie\", y=gender_pie.keys())\n",
    "\n",
    "plt.axis(\"equal\")\n",
    "plt.show()\n",
    "plt.tight_layout()\n",
    "\n"
   ]
  },
  {
   "cell_type": "markdown",
   "metadata": {},
   "source": [
    "## Quartiles, outliers and boxplots"
   ]
  },
  {
   "cell_type": "code",
   "execution_count": 8,
   "metadata": {},
   "outputs": [],
   "source": [
    "\n",
    "max_study_data= study_data.groupby([\"Mouse_ID\"]).max()\n",
    "max_study_data= max_study_data.reset_index()\n",
    "merged_study_data=max_study_data[[\"Mouse_ID\",\"Timepoint\"]].merge(study_data, on = ['Mouse_ID',\"Timepoint\"], how =\"left\")\n"
   ]
  },
  {
   "cell_type": "code",
   "execution_count": 9,
   "metadata": {},
   "outputs": [],
   "source": [
    "# Calculate the final tumor volume of each mouse across four of the most promising treatment regimens. \n",
    "#Calculate the IQR and quantitatively determine if there are any potential outliers. \n",
    "\n",
    "study_capomulin = merged_study_data.loc[merged_study_data[\"Regimen\"] == \"Capomulin\",:\"Volume\"]\n",
    "\n",
    "quartiles = study_capomulin['Volume'].quantile([.25,.5,.75])\n",
    "lowerq = quartiles[0.25]\n",
    "upperq = quartiles[0.75]\n",
    "iqr = upperq-lowerq\n",
    "lower_bound = lowerq - (1.5*iqr)\n",
    "upper_bound = upperq + (1.5*iqr)\n",
    "outlier_capomulin= study_capomulin.loc[(study_capomulin['Volume'] < lower_bound) | (study_capomulin['Volume'] > upper_bound)]\n"
   ]
  },
  {
   "cell_type": "code",
   "execution_count": 10,
   "metadata": {},
   "outputs": [],
   "source": [
    "study_Ramicane= merged_study_data.loc[merged_study_data[\"Regimen\"] == \"Ramicane\",:\"Volume\"]\n",
    "study_Ramicane\n",
    "quartiles2 = study_Ramicane['Volume'].quantile([.25,.5,.75])\n",
    "lowerq2 = quartiles[0.25]\n",
    "upperq2 = quartiles[0.75]\n",
    "iqr2 = upperq2-lowerq2\n",
    "lower_bound2 = lowerq2 - (1.5*iqr2)\n",
    "upper_bound2 = upperq2 + (1.5*iqr2)\n",
    "outlier_Ramicane= study_Ramicane.loc[(study_Ramicane['Volume'] < lower_bound2) | (study_Ramicane['Volume'] > upper_bound2)]"
   ]
  },
  {
   "cell_type": "code",
   "execution_count": 11,
   "metadata": {},
   "outputs": [],
   "source": [
    "study_Infubinol= merged_study_data.loc[merged_study_data[\"Regimen\"] == \"Infubinol\",:\"Volume\"]\n",
    "#study_Infubinol\n",
    "quartiles = study_Infubinol['Volume'].quantile([.25,.5,.75])\n",
    "lowerq = quartiles[0.25]\n",
    "upperq = quartiles[0.75]\n",
    "iqr = upperq-lowerq\n",
    "lower_bound = lowerq - (1.5*iqr)\n",
    "upper_bound = upperq + (1.5*iqr)\n",
    "outlier_Infubinol= study_Infubinol.loc[(study_Infubinol['Volume'] < lower_bound) | (study_Infubinol['Volume'] > upper_bound)]"
   ]
  },
  {
   "cell_type": "code",
   "execution_count": 12,
   "metadata": {},
   "outputs": [],
   "source": [
    "study_Ceftamin= merged_study_data.loc[merged_study_data[\"Regimen\"] == \"Ceftamin\",:\"Volume\"]\n",
    "\n",
    "quartiles = study_Ceftamin['Volume'].quantile([.25,.5,.75])\n",
    "lowerq = quartiles[0.25]\n",
    "upperq = quartiles[0.75]\n",
    "iqr = upperq-lowerq\n",
    "lower_bound = lowerq - (1.5*iqr)\n",
    "upper_bound = upperq + (1.5*iqr)\n",
    "outlier_Ceftamin= study_Ceftamin.loc[(study_Ceftamin['Volume'] < lower_bound) | (study_Ceftamin['Volume'] > upper_bound)]"
   ]
  },
  {
   "cell_type": "code",
   "execution_count": 13,
   "metadata": {},
   "outputs": [
    {
     "data": {
      "image/png": "[encoded data removed]",
      "text/plain": [
       "<Figure size 432x288 with 1 Axes>"
      ]
     },
     "metadata": {
      "needs_background": "light"
     },
     "output_type": "display_data"
    }
   ],
   "source": [
    "# Generate a box plot of the final tumor volume of each mouse across four regimens of interest\n",
    "\n",
    "iqr_plot=[study_capomulin[\"Volume\"], study_Ramicane[\"Volume\"], study_Infubinol[\"Volume\"], study_Ceftamin[\"Volume\"]]\n",
    "\n",
    "\n",
    "fig1, ax1 = plt.subplots()\n",
    "ax1.set_title('Tumors by regimen')\n",
    "ax1.set_ylabel('Final Tumor Volume')\n",
    "ax1.set_ylabel('Drug Regimen')\n",
    "ax1.boxplot(iqr_plot, labels=[\"capomulin\", \"Ramicane\", \"Infubinol\", \"Ceftamin\"])\n",
    "plt.savefig('boxplot')\n",
    "plt.show()"
   ]
  },
  {
   "cell_type": "markdown",
   "metadata": {},
   "source": [
    "## Line and scatter plots"
   ]
  },
  {
   "cell_type": "code",
   "execution_count": 14,
   "metadata": {},
   "outputs": [
    {
     "data": {
      "image/png": "[encoded data removed]",
      "text/plain": [
       "<Figure size 432x288 with 1 Axes>"
      ]
     },
     "metadata": {
      "needs_background": "light"
     },
     "output_type": "display_data"
    }
   ],
   "source": [
    "# Generate a line plot of time point versus tumor volume for a mouse treated with Capomulin\n",
    "\n",
    "study_capomulin_line = study_data.loc[study_data[\"Regimen\"] == \"Capomulin\",:\"Volume\"]\n",
    "study_data_line= study_capomulin_line.loc[study_capomulin_line[\"Mouse_ID\"] == \"s185\",:]\n",
    "\n",
    "x_axis=study_data_line[\"Timepoint\"]\n",
    "ytumor=study_data_line[\"Volume\"]\n",
    "\n",
    "plt.plot(x_axis, ytumor, linewidth=1, marker=\"o\", color=\"blue\")\n",
    "\n",
    "plt.title(\"Tumor volume over treatment period\")\n",
    "plt.xlabel(\"Timepoints\")\n",
    "plt.ylabel(\"Tumor Volume\")\n",
    "\n",
    "plt.show()\n"
   ]
  },
  {
   "cell_type": "code",
   "execution_count": 15,
   "metadata": {},
   "outputs": [
    {
     "data": {
      "image/png": "[encoded data removed]",
      "text/plain": [
       "<Figure size 432x288 with 1 Axes>"
      ]
     },
     "metadata": {
      "needs_background": "light"
     },
     "output_type": "display_data"
    }
   ],
   "source": [
    "# Generate a scatter plot of mouse weight versus average tumor volume for the Capomulin regimen\n",
    "avg_study_capomulin= study_capomulin.groupby([\"Mouse_ID\"]).mean()\n",
    "\n",
    "plt.scatter(avg_study_capomulin[\"Weight\"],avg_study_capomulin[\"Volume\"])\n",
    "\n",
    "plt.xlabel(\"Mouse Weight (g)\")\n",
    "plt.ylabel(\"Tumore Volume (mm3)\")\n",
    "\n",
    "plt.show()\n",
    "\n"
   ]
  },
  {
   "cell_type": "code",
   "execution_count": 16,
   "metadata": {},
   "outputs": [
    {
     "data": {
      "image/png": "[encoded data removed]",
      "text/plain": [
       "<Figure size 432x288 with 1 Axes>"
      ]
     },
     "metadata": {
      "needs_background": "light"
     },
     "output_type": "display_data"
    }
   ],
   "source": [
    "# Calculate the correlation coefficient and linear regression model\n",
    "#for mouse weight and average tumor volume for the Capomulin regimen\n",
    "avg_study_capomulin= study_capomulin.groupby([\"Mouse_ID\"]).mean()\n",
    "\n",
    "plt.scatter(avg_study_capomulin[\"Weight\"],avg_study_capomulin[\"Volume\"])\n",
    "\n",
    "plt.xlabel(\"Mouse Weight (g)\")\n",
    "plt.ylabel(\"Tumore Volume (mm3)\")\n",
    "\n",
    "#plt.show()\n",
    "\n",
    "x_values = avg_study_capomulin['Weight']\n",
    "y_values = avg_study_capomulin['Volume']\n",
    "(slope, intercept, rvalue, pvalue, stderr) = st.linregress(x_values, y_values)\n",
    "regress_values = x_values * slope + intercept\n",
    "line_eq = \"y = \" + str(round(slope,2)) + \"x + \" + str(round(intercept,2))\n",
    "plt.scatter(x_values,y_values)\n",
    "plt.plot(x_values,regress_values,\"r-\")\n",
    "plt.annotate(line_eq,(6,10),fontsize=15,color=\"red\")\n",
    "plt.xlabel(\"Mouse Weight (g)\")\n",
    "plt.ylabel(\"Tumore Volume (mm3)\")\n",
    "plt.show()"
   ]
  },
  {
   "cell_type": "code",
   "execution_count": null,
   "metadata": {},
   "outputs": [],
   "source": []
  }
 ],
 "metadata": {
  "anaconda-cloud": {},
  "kernelspec": {
   "display_name": "Python 3",
   "language": "python",
   "name": "python3"
  },
  "language_info": {
   "codemirror_mode": {
    "name": "ipython",
    "version": 3
   },
   "file_extension": ".py",
   "mimetype": "text/x-python",
   "name": "python",
   "nbconvert_exporter": "python",
   "pygments_lexer": "ipython3",
   "version": "3.7.4"
  }
 },
 "nbformat": 4,
 "nbformat_minor": 2
}
